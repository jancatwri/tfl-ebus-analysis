{
 "cells": [
  {
   "cell_type": "code",
   "execution_count": null,
   "metadata": {},
   "outputs": [],
   "source": [
    "import sys\n",
    "import json\n",
    "import gzip\n",
    "import glob, os, shutil\n",
    "import base64\n",
    "import xmltodict\n",
    "from pprint import pprint\n",
    "import pandas as pd"
   ]
  },
  {
   "cell_type": "code",
   "execution_count": null,
   "metadata": {},
   "outputs": [],
   "source": [
    "n=''\n",
    "YYYY='2017'\n",
    "MM='11'\n",
    "\n",
    "for DD in ['13','14','15','16','20','21','22','23','27','28','29','30']: \n",
    "    print(DD)\n",
    "    for file in glob.glob(\"./Bus_{}8/{}-{}-{}/*/*.gz\".format(n,YYYY,MM,DD)):\n",
    "        f=gzip.open(file,'rb')\n",
    "        for line in f.readlines():\n",
    "            json_object = json.loads(line)\n",
    "            payload_ascii = json_object['data']\n",
    "            b64_payload_ascii = json_object['data']\n",
    "            payload_decoded_bytes = base64.b64decode(b64_payload_ascii)\n",
    "            a=str(payload_decoded_bytes)\n",
    "            if len(a) != 0:\n",
    "                if '<?xml' not in a:\n",
    "                    if '<html' not in a:\n",
    "                        payl=json.loads(payload_decoded_bytes.decode(\"UTF-8\"))\n",
    "                        data = pd.DataFrame(payl)\n",
    "                        file_name = str(file[:-4]) + \".csv\"\n",
    "                        data.to_csv(file_name)\n",
    "    results = pd.DataFrame([])\n",
    "    print('Combining...')\n",
    "    for folder in ['03','04','05','06','07','08','09','10','11','12','13','14']:\n",
    "        for csvfile in glob.glob(\"./Bus_{}8/{}-{}-{}/{}/*.csv\".format(n,YYYY,MM,DD,folder)):\n",
    "            namedf = pd.read_csv(csvfile, skiprows=0)\n",
    "            results = results.append(namedf)\n",
    "    results.to_csv('./Bus_{}8/{}-{}-{}/combinedfile.csv'.format(n,YYYY,MM,DD))\n",
    "print('Complete!')"
   ]
  },
  {
   "cell_type": "code",
   "execution_count": null,
   "metadata": {},
   "outputs": [],
   "source": [
    "results = pd.DataFrame([])\n",
    "YYYY='2017'\n",
    "MM='10'\n",
    "for DD in ['27','28']:\n",
    "    for n in ['','n']:\n",
    "        print(n + DD)\n",
    "        for csvfile in glob.glob(\"./Bus_{}8/{}-{}-{}/combinedfile.csv\".format(n,YYYY,MM,DD)):\n",
    "            namedf = pd.read_csv(csvfile, skiprows=0)\n",
    "            results = results.append(namedf)\n",
    "\n",
    "results.to_csv('./weekend2combinedfile.csv'.format(n,YYYY,MM,DD))\n",
    "print('Complete!')"
   ]
  },
  {
   "cell_type": "code",
   "execution_count": null,
   "metadata": {},
   "outputs": [],
   "source": []
  }
 ],
 "metadata": {
  "kernelspec": {
   "display_name": "Python 3",
   "language": "python",
   "name": "python3"
  },
  "language_info": {
   "codemirror_mode": {
    "name": "ipython",
    "version": 3
   },
   "file_extension": ".py",
   "mimetype": "text/x-python",
   "name": "python",
   "nbconvert_exporter": "python",
   "pygments_lexer": "ipython3",
   "version": "3.7.0"
  }
 },
 "nbformat": 4,
 "nbformat_minor": 2
}
