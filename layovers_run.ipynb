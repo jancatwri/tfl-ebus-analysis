{
 "cells": [
  {
   "cell_type": "code",
   "execution_count": null,
   "metadata": {},
   "outputs": [
    {
     "name": "stdout",
     "output_type": "stream",
     "text": [
      "13 Started\n"
     ]
    },
    {
     "name": "stderr",
     "output_type": "stream",
     "text": [
      "C:\\ProgramData\\Anaconda3\\lib\\site-packages\\pandas\\core\\indexing.py:189: SettingWithCopyWarning: \n",
      "A value is trying to be set on a copy of a slice from a DataFrame\n",
      "\n",
      "See the caveats in the documentation: http://pandas.pydata.org/pandas-docs/stable/indexing.html#indexing-view-versus-copy\n",
      "  self._setitem_with_indexer(indexer, value)\n"
     ]
    },
    {
     "name": "stdout",
     "output_type": "stream",
     "text": [
      "13 Done\n",
      "14 Started\n"
     ]
    }
   ],
   "source": [
    "#running layovers_simplified\n",
    "\n",
    "from layovers_simplified import layoveranalysis\n",
    "\n",
    "n='' #'n' or ''\n",
    "YYYY='2017' #year\n",
    "MM='11' #month\n",
    "\n",
    "first_stops={0:'BW',1:'TC'} #outbound origin, inbound origin\n",
    "for DD in ['13','14','15','16','20','21','22','23','27','28','29','30']: #days\n",
    "    print('{} Started'.format(DD))\n",
    "    layoveranalysis(n,YYYY,MM,DD,first_stops)\n",
    "    print('{} Bus Graph csv Complete'.format(DD))"
   ]
  },
  {
   "cell_type": "code",
   "execution_count": 1,
   "metadata": {},
   "outputs": [
    {
     "name": "stdout",
     "output_type": "stream",
     "text": [
      "03 Started\n",
      "Bus Graph csv Complete\n",
      "Battery Started\n",
      "Battery Complete\n",
      "03 Complete\n"
     ]
    }
   ],
   "source": [
    "# running layovers_extended\n",
    "\n",
    "from layovers_extended import layoveranalysis\n",
    "\n",
    "oneday = True # True: Only processing route 8/n8 on a specific day. False: Processing route 8/n8 for multiple days grouped in one file \n",
    "\n",
    "# for oneday mode\n",
    "YYYY='2018'\n",
    "MM='09'\n",
    "n='' #''or 'n'\n",
    "\n",
    "# for grouped days mode\n",
    "name = 'weekend2' # grouped data file name\n",
    "\n",
    "# battery spec\n",
    "batteryMax = 150 #kWh\n",
    "chargePower = 200 #kW\n",
    "discharge = 1.3 #kWh/km\n",
    "heating = 15 #kW\n",
    "heatingBool = True # heating on is True\n",
    "dwellloss = 1 # minutes of dwell time lost per layover\n",
    "\n",
    "if bool(oneday):\n",
    "    for DD in ['03']: #days\n",
    "        print('{} Started'.format(DD))\n",
    "        layoveranalysis(oneday,n,YYYY,MM,DD,name,batteryMax,chargePower,discharge,heating,heatingBool,dwellloss)\n",
    "        print('{} Complete'.format(DD))\n",
    "else:\n",
    "    print('Started'.format(DD))\n",
    "    layoveranalysis(oneday,n,YYYY,MM,DD,name,batteryMax,chargePower,discharge,heating,heatingBool,dwellloss)\n",
    "    print('Complete'.format(DD))"
   ]
  },
  {
   "cell_type": "code",
   "execution_count": null,
   "metadata": {},
   "outputs": [],
   "source": []
  }
 ],
 "metadata": {
  "kernelspec": {
   "display_name": "Python 3",
   "language": "python",
   "name": "python3"
  },
  "language_info": {
   "codemirror_mode": {
    "name": "ipython",
    "version": 3
   },
   "file_extension": ".py",
   "mimetype": "text/x-python",
   "name": "python",
   "nbconvert_exporter": "python",
   "pygments_lexer": "ipython3",
   "version": "3.7.0"
  }
 },
 "nbformat": 4,
 "nbformat_minor": 2
}
