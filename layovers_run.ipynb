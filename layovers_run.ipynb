{
 "cells": [
  {
   "cell_type": "code",
   "execution_count": 1,
   "metadata": {},
   "outputs": [
    {
     "name": "stdout",
     "output_type": "stream",
     "text": [
      "13 Started\n"
     ]
    },
    {
     "name": "stderr",
     "output_type": "stream",
     "text": [
      "C:\\ProgramData\\Anaconda3\\lib\\site-packages\\pandas\\core\\indexing.py:189: SettingWithCopyWarning: \n",
      "A value is trying to be set on a copy of a slice from a DataFrame\n",
      "\n",
      "See the caveats in the documentation: http://pandas.pydata.org/pandas-docs/stable/indexing.html#indexing-view-versus-copy\n",
      "  self._setitem_with_indexer(indexer, value)\n"
     ]
    },
    {
     "name": "stdout",
     "output_type": "stream",
     "text": [
      "13 Done\n",
      "14 Started\n",
      "14 Done\n",
      "15 Started\n",
      "15 Done\n",
      "16 Started\n",
      "16 Done\n",
      "20 Started\n",
      "20 Done\n",
      "21 Started\n",
      "21 Done\n",
      "22 Started\n",
      "22 Done\n",
      "23 Started\n",
      "23 Done\n",
      "27 Started\n",
      "27 Done\n",
      "28 Started\n",
      "28 Done\n",
      "29 Started\n",
      "29 Done\n",
      "30 Started\n",
      "30 Done\n",
      "Wall time: 21min 9s\n"
     ]
    }
   ],
   "source": [
    "%%time\n",
    "from __future__ import print_function\n",
    "import pandas as pd\n",
    "import numpy as np\n",
    "import glob, os, shutil\n",
    "import gzip\n",
    "import json\n",
    "import base64\n",
    "import datetime\n",
    "import pprint\n",
    "import uuid\n",
    "import sys\n",
    "import numpy as np\n",
    "from dateutil import parser, rrule\n",
    "parsedate = parser.parse\n",
    "from layovers_simplified import layoveranalysis\n",
    "\n",
    "n='' #'n' or ''\n",
    "YYYY='2017' #year\n",
    "MM='11' #month\n",
    "\n",
    "first_stops={0:'BW',1:'TC'} #outbound origin, inbound origin\n",
    "for DD in ['13','14','15','16','20','21','22','23','27','28','29','30']: #days\n",
    "    print('{} Started'.format(DD))\n",
    "    layoveranalysis(n,YYYY,MM,DD,first_stops)\n",
    "    print('{} Done'.format(DD))"
   ]
  },
  {
   "cell_type": "code",
   "execution_count": null,
   "metadata": {},
   "outputs": [],
   "source": []
  }
 ],
 "metadata": {
  "kernelspec": {
   "display_name": "Python 3",
   "language": "python",
   "name": "python3"
  },
  "language_info": {
   "codemirror_mode": {
    "name": "ipython",
    "version": 3
   },
   "file_extension": ".py",
   "mimetype": "text/x-python",
   "name": "python",
   "nbconvert_exporter": "python",
   "pygments_lexer": "ipython3",
   "version": "3.7.0"
  }
 },
 "nbformat": 4,
 "nbformat_minor": 2
}
